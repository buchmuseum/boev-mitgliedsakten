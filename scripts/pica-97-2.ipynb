{
 "cells": [
  {
   "cell_type": "markdown",
   "metadata": {},
   "source": [
    "# Qd-Sätze schreiben"
   ]
  },
  {
   "cell_type": "code",
   "execution_count": 1,
   "metadata": {},
   "outputs": [],
   "source": [
    "import pandas as pd\n",
    "import re\n",
    "import numpy as np\n",
    "from datetime import datetime\n",
    "\n",
    "rawpath = '../raw'\n",
    "datpath = '../dat'"
   ]
  },
  {
   "cell_type": "markdown",
   "metadata": {},
   "source": [
    "Aktuelle csv-Datei wird als df importiert, mit convert_dtypes werden die neuen String-Formate von pandas 1.0 angewendet"
   ]
  },
  {
   "cell_type": "code",
   "execution_count": 2,
   "metadata": {},
   "outputs": [],
   "source": [
    "df = pd.read_csv(f'{rawpath}/HABV_97_2_v2.csv', index_col='Nr').convert_dtypes()\n",
    "df.rename({'Verweise/Bemerkungen/Ergänzungen/Zusätze':'Bemerkungen'}, axis=1, inplace=True)\n",
    "df.drop(['Unnamed: 8', 'Unnamed: 9'], inplace=True, axis=1)\n",
    "filt = (df['idns'].str.len() <= 2)\n",
    "df.loc[filt, 'idns'] = np.NaN\n",
    "# df"
   ]
  },
  {
   "cell_type": "code",
   "execution_count": 14,
   "metadata": {},
   "outputs": [],
   "source": [
    "def picaplus_schreiben(row):\n",
    "    pica = f\"\"\"001U $0utf8\n",
    "001X $00\n",
    "002@ $0Qd\n",
    "002C $aText$btxt\n",
    "002D $aohne Hilfsmittel zu benutzen$bn\n",
    "002E $aBlatt$bnb\n",
    "010@ $ager\n",
    "011@ $a{row['lz_beginn']}$b{row['lz_ende']}\n",
    "011E $r{row['lz_beginn']}-{row['lz_ende']}$4lfzt\n",
    "013C $aTB-papier\n",
    "013C $9040445224\n",
    "013D $9041466098\n",
    "013E $aa1-analog$aa2-masch$af1-text$af2-blatt$ae2-uv$av-cont\n",
    "017A $ayy\n",
    "019@ $aXA-DE\n",
    "021A $aMitgliedsakte {row['firmenname_neu']}\"\"\"\n",
    "    pica += f\"\"\"\n",
    "021Z $aMitgliedsakte$Bobja\n",
    "029A $9000073369$BZusammenstellender$4com\n",
    "033F $p{row.Ort}\n",
    "034D $a1 Akte\n",
    "036H $91061153886\n",
    "\"\"\"\n",
    "    if pd.notna(row.idns):\n",
    "        idn = re.match(r'\\[\\'(.+)\\'\\]', row.idns).group(1)\n",
    "        pica += f\"041A $9{idn}\"\n",
    "    else:\n",
    "        pica += f\"\"\"041A/01 $9000073369\n",
    "041A/02 $9041146093\n",
    "041A/09 $eDE-101d$rDE-101d\n",
    "044N $bRNA$aKorrespondenz\n",
    "044P $bObjektgattung\n",
    "044P $9040009254\n",
    "047A $SBSM\n",
    "101@ $a1\n",
    "208@/01 $a12-02-20$bx\n",
    "201U/01 $0utf8\n",
    "209A/01 $aHA/BV 97.2,{row.Nr}$dm$x00\n",
    "209A/01 $fDBSM/S$gHA/BV 97.2,{row.Nr}$x09\n",
    "245Y/01 $91059758482$8DBSM.Stslg Archiv/BoeHA C 97.2: Unternehmensmitgliedschaft$l{row.Nr}\\n\\n\"\"\"\n",
    "    return pica"
   ]
  },
  {
   "cell_type": "code",
   "execution_count": null,
   "metadata": {},
   "outputs": [],
   "source": [
    "#jede einzelne zeile des df wird ausgewertet und das ergebnis als string pica zurückgegeben, dieser wird in die geöffnete .dat-Datei geschrieben.\n",
    "\n",
    "with open('97_2_picaplus-97-2-2021-07-30.dat', 'w') as f:\n",
    "    for index, row in df.iterrows():\n",
    "        f.write(picaplus_schreiben(row))"
   ]
  },
  {
   "cell_type": "code",
   "execution_count": 3,
   "metadata": {},
   "outputs": [],
   "source": [
    "def pica3_schreiben(row):\n",
    "    pica = \"\"\"\\t\\n0500 Qd\n",
    "0501 Text$btxt\n",
    "0502 ohne Hilfsmittel zu benutzen$bn\n",
    "0503 Blatt$bnb\n",
    "0600 yy\n",
    "\"\"\"\n",
    "    if pd.isna(row.lz_ende):\n",
    "        pica += f\"\"\"1100 {row.lz_beginn}\\n1110 *{row.lz_beginn}$4lfzt\"\"\"\n",
    "    elif pd.notna(row.lz_ende):\n",
    "        pica += f\"\"\"1100 {row.lz_beginn}$b{row.lz_ende}\\n1110 *{row.lz_beginn}-{row.lz_ende}$4lfzt\"\"\"\n",
    "    pica += \"\"\"\n",
    "1130 TB-papier\n",
    "1130 !040445224!\n",
    "1130 !041466098!\n",
    "1132 a1-analog;a2-masch;f1-text;f2-blatt;e2-uv;v-cont\n",
    "1500 /1ger\n",
    "1700 /1XA-DE\\n\"\"\"\n",
    "    if pd.notna(row.Bemerkungen):\n",
    "        if match := re.match(r\"(.+)(, enth\\..+)\", row.Bemerkungen):\n",
    "            pica += f\"4000 Mitgliedsakte {row.firmenname_neu}. {match.group(1)}\"\n",
    "        elif match := re.match(r\"^enth.+\", row.Bemerkungen):\n",
    "            pica += f\"4000 Mitgliedsakte {row.firmenname_neu}\"\n",
    "        else:\n",
    "            pica += f\"4000 Mitgliedsakte {row.firmenname_neu}\"\n",
    "    elif pd.isna(row.Bemerkungen):\n",
    "        pica += f\"4000 Mitgliedsakte {row.firmenname_neu}\"\n",
    "    else:\n",
    "        pica += f\"4000 Mitgliedsakte {row.firmenname_neu}\"\n",
    "    pica += f\"\"\"\n",
    "4019 Mitgliedsakte$Bobja\n",
    "3100 !000073369!$BZusammenstellender$4com\"\"\"\n",
    "    if pd.notna(row.Ort):\n",
    "        pica += f\"\\n4046 {row.Ort}\"\n",
    "    pica += \"\"\"\n",
    "4060 1 Akte\n",
    "4105 !1061153886!\n",
    "5100 !000073369!\n",
    "\"\"\"\n",
    "    if pd.notna(row.idns):\n",
    "        if idn := re.match(r\"\\[\\'(\\w+)\\'\\]\", row.idns):\n",
    "            pica += f\"5101 !{idn.group(1)}!\\n\"\n",
    "        else:\n",
    "            pica += f\"5550 [DBSM-S]{row.firmenname_neu}\\n\"\n",
    "    else:\n",
    "        pica += f\"5550 [DBSM-S]{row.firmenname_neu}\\n\"\n",
    "    pica += \"5109 (DE-101d){DE-101d}\"\n",
    "    pica += f\"\"\"\n",
    "5560 [RNA]Korrespondenz\n",
    "5590 [Objektgattung]\n",
    "5590 !040009254!\n",
    "4700 |BSM|\n",
    "7001 {now.strftime('%d-%m-%y')} : x\n",
    "7100 HA/BV 97.2,{row.Index} @ m\n",
    "7109 !!DBSM/S!! ; HA/BV 97.2,{row.Index}\n",
    "6710 !1059758482!$l{row.Index}\\n\"\"\"\n",
    "    return pica"
   ]
  },
  {
   "cell_type": "code",
   "execution_count": 4,
   "metadata": {},
   "outputs": [],
   "source": [
    "now = datetime.now()\n",
    "with open(f\"{datpath}/97_2_pica3-{now.strftime('%y-%m-%d-%H-%M-%S')}.dat\", 'w') as f:\n",
    "    with open(f\"{datpath}/97_2_pica3-recent.dat\", 'w') as f2:\n",
    "        for row in df.itertuples():\n",
    "            f.write(pica3_schreiben(row))\n",
    "            f2.write(pica3_schreiben(row))\n",
    "\n",
    "# with open(f\"{datpath}/97_2_pica3-recent-sample.dat\", 'w') as f:\n",
    "#     for row in df.sample(5).itertuples():\n",
    "#         f.write(pica3_schreiben(row))\n",
    "\n",
    "with open(f\"{datpath}/97_2_pica3-100test.dat\", 'w') as f:\n",
    "    for row in df[:100].itertuples():\n",
    "        f.write(pica3_schreiben(row))"
   ]
  },
  {
   "cell_type": "code",
   "execution_count": null,
   "metadata": {},
   "outputs": [],
   "source": []
  }
 ],
 "metadata": {
  "interpreter": {
   "hash": "500e9f379dfc33ce5a29440abeb9db4daee6d18ed4745caa87d0342feb958303"
  },
  "kernelspec": {
   "display_name": "Python 3.8.5 64-bit ('anaconda3': virtualenv)",
   "name": "python3"
  },
  "language_info": {
   "codemirror_mode": {
    "name": "ipython",
    "version": 3
   },
   "file_extension": ".py",
   "mimetype": "text/x-python",
   "name": "python",
   "nbconvert_exporter": "python",
   "pygments_lexer": "ipython3",
   "version": "3.8.5"
  }
 },
 "nbformat": 4,
 "nbformat_minor": 4
}
